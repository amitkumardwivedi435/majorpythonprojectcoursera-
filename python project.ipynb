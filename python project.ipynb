{
    "cells": [
        {
            "metadata": {},
            "cell_type": "markdown",
            "source": "Extracting and Visualizing Stock Data"
        },
        {
            "metadata": {},
            "cell_type": "code",
            "source": "!pip install yfinance\n#!pip install pandas\n#!pip install requests\n!pip install bs4\n#!pip install plotly",
            "execution_count": null,
            "outputs": []
        },
        {
            "metadata": {},
            "cell_type": "code",
            "source": "import yfinance as yf\nimport pandas as pd\nimport requests\nfrom bs4 import BeautifulSoup\nimport plotly.graph_objects as go\nfrom plotly.subplots import make_subplots",
            "execution_count": null,
            "outputs": []
        },
        {
            "metadata": {},
            "cell_type": "markdown",
            "source": "Define Graphing Function"
        },
        {
            "metadata": {},
            "cell_type": "code",
            "source": "def make_graph(stock_data, revenue_data, stock):\n    fig = make_subplots(rows=2, cols=1, shared_xaxes=True, subplot_titles=(\"Historical Share Price\", \"Historical Revenue\"), vertical_spacing = .3)\n    fig.add_trace(go.Scatter(x=pd.to_datetime(stock_data.Date, infer_datetime_format=True), y=stock_data.Close.astype(\"float\"), name=\"Share Price\"), row=1, col=1)\n    fig.add_trace(go.Scatter(x=pd.to_datetime(revenue_data.Date, infer_datetime_format=True), y=revenue_data.Revenue.astype(\"float\"), name=\"Revenue\"), row=2, col=1)\n    fig.update_xaxes(title_text=\"Date\", row=1, col=1)\n    fig.update_xaxes(title_text=\"Date\", row=2, col=1)\n    fig.update_yaxes(title_text=\"Price ($US)\", row=1, col=1)\n    fig.update_yaxes(title_text=\"Revenue ($US Millions)\", row=2, col=1)\n    fig.update_layout(showlegend=False,\n    height=900,\n    title=stock,\n    xaxis_rangeslider_visible=True)\n    fig.show()",
            "execution_count": null,
            "outputs": []
        },
        {
            "metadata": {},
            "cell_type": "markdown",
            "source": "Use yfinance to Extract Stock Data"
        },
        {
            "metadata": {},
            "cell_type": "code",
            "source": "tesla =  yf.Ticker('TSLA')",
            "execution_count": null,
            "outputs": []
        },
        {
            "metadata": {},
            "cell_type": "code",
            "source": "tesla_data = tesla.history(period= 'max')",
            "execution_count": null,
            "outputs": []
        },
        {
            "metadata": {},
            "cell_type": "code",
            "source": "tesla_data.reset_index(inplace = True)",
            "execution_count": null,
            "outputs": []
        },
        {
            "metadata": {},
            "cell_type": "code",
            "source": "tesla_data.head()\n",
            "execution_count": null,
            "outputs": []
        },
        {
            "metadata": {},
            "cell_type": "markdown",
            "source": "use webscrapping to extract tesla revenue data"
        },
        {
            "metadata": {},
            "cell_type": "code",
            "source": "import numpy as np",
            "execution_count": null,
            "outputs": []
        },
        {
            "metadata": {},
            "cell_type": "code",
            "source": "\n\nurl = 'https://www.macrotrends.net/stocks/charts/TSLA/tesla/revenue'\nhtml_data = requests.get(url).text\n\n",
            "execution_count": null,
            "outputs": []
        },
        {
            "metadata": {},
            "cell_type": "code",
            "source": "beautiful_soup = BeautifulSoup(html_data,'html5lib')",
            "execution_count": null,
            "outputs": []
        },
        {
            "metadata": {},
            "cell_type": "code",
            "source": "print('The number of tables in the url are :', len(beautiful_soup.find_all('table')))\n\nfor i,j in enumerate(beautiful_soup.find_all('table')):\n    if ( 'Tesla Quarterly Revenue' in str(j)):\n        print('the table we are looking for is in location:', i)\n        \ntesla_revenue = pd.DataFrame(columns= ['Date', 'Revenue'])\n#beautiful_soup.find_all('table')[1].find('tbody').find_all('tr')[0].text.strip().replace(\"\\t\", \"\").replace('\\n',\"\").split('$')",
            "execution_count": null,
            "outputs": []
        },
        {
            "metadata": {},
            "cell_type": "code",
            "source": "for i in beautiful_soup.find_all('table')[1].find('tbody').find_all('tr'):\n    col = i\n    date = col.text.strip().replace(\"\\t\", \"\").replace('\\n',\"\").split('$')[0]\n    #print(date)\n    try:\n        revenue = col.text.strip().replace(\"\\t\", \"\").replace('\\n',\"\").split('$')[1]\n       # print(revenue)    \n    except IndexError:\n        revenue= np.nan\n        #print(revenue)\n    tesla_revenue= tesla_revenue.append({\"Date\":date,\"Revenue\":revenue}, ignore_index=True)\n#tesla_revenue.head()",
            "execution_count": null,
            "outputs": []
        },
        {
            "metadata": {},
            "cell_type": "code",
            "source": "tesla_revenue.dropna(inplace =True)",
            "execution_count": null,
            "outputs": []
        },
        {
            "metadata": {},
            "cell_type": "code",
            "source": "tesla_revenue['Revenue'] = tesla_revenue['Revenue'].apply(lambda x: x.replace(',',''))",
            "execution_count": null,
            "outputs": []
        },
        {
            "metadata": {},
            "cell_type": "code",
            "source": "tesla_revenue.tail(5)",
            "execution_count": null,
            "outputs": []
        },
        {
            "metadata": {},
            "cell_type": "markdown",
            "source": "use yfinance to extract stock data"
        },
        {
            "metadata": {},
            "cell_type": "code",
            "source": "\n\ngme = yf.Ticker('GME')\n\n",
            "execution_count": null,
            "outputs": []
        },
        {
            "metadata": {},
            "cell_type": "code",
            "source": "gme_data = gme.history(period='max')",
            "execution_count": null,
            "outputs": []
        },
        {
            "metadata": {},
            "cell_type": "code",
            "source": "gme_data.reset_index(inplace= True)",
            "execution_count": null,
            "outputs": []
        },
        {
            "metadata": {},
            "cell_type": "code",
            "source": "gme_data.head()",
            "execution_count": null,
            "outputs": []
        },
        {
            "metadata": {},
            "cell_type": "markdown",
            "source": "Use Webscraping to Extract GME Revenue Data"
        },
        {
            "metadata": {},
            "cell_type": "code",
            "source": "url2 = ' https://www.macrotrends.net/stocks/charts/GME/gamestop/revenue'\nhtml_data2 = requests.get(url2).text",
            "execution_count": null,
            "outputs": []
        },
        {
            "metadata": {},
            "cell_type": "code",
            "source": "beautiful_soup2 = BeautifulSoup(html_data2,'html5lib')",
            "execution_count": null,
            "outputs": []
        },
        {
            "metadata": {},
            "cell_type": "code",
            "source": "\n\nprint('The number of tables in the url are :', len(beautiful_soup2.find_all('table')))\n\nfor i,j in enumerate(beautiful_soup2.find_all('table')):\n    if ( 'GameStop Quarterly Revenue' in str(j)):\n        print('the table we are looking for is in location:', i)\n        \ngme_revenue = pd.read_html(str(beautiful_soup2.find_all('table')[1]), flavor='bs4')[0]    \ngme_revenue.columns\n\n",
            "execution_count": null,
            "outputs": []
        },
        {
            "metadata": {},
            "cell_type": "code",
            "source": "\n\nprint('The number of tables in the url are :', len(beautiful_soup2.find_all('table')))\n\nfor i,j in enumerate(beautiful_soup2.find_all('table')):\n    if ( 'GameStop Quarterly Revenue' in str(j)):\n        print('the table we are looking for is in location:', i)\n        \ngme_revenue = pd.read_html(str(beautiful_soup2.find_all('table')[1]), flavor='bs4')[0]    \ngme_revenue.columns\n\n",
            "execution_count": null,
            "outputs": []
        },
        {
            "metadata": {},
            "cell_type": "code",
            "source": "gme_revenue.tail()",
            "execution_count": null,
            "outputs": []
        },
        {
            "metadata": {},
            "cell_type": "code",
            "source": "Plot Tesla Stock Graph",
            "execution_count": null,
            "outputs": []
        },
        {
            "metadata": {},
            "cell_type": "code",
            "source": "tesla_revenue['Revenue'] = tesla_revenue['Revenue'].apply(lambda x: np.float(x))",
            "execution_count": null,
            "outputs": []
        },
        {
            "metadata": {},
            "cell_type": "code",
            "source": "make_graph(tesla_data, tesla_revenue, 'Tesla')",
            "execution_count": null,
            "outputs": []
        },
        {
            "metadata": {},
            "cell_type": "code",
            "source": "\n\ngme_revenue['Revenue'] = gme_revenue['Revenue'].apply(lambda x : float(x))\nmake_graph(gme_data, gme_revenue, 'GameStop')\n\n",
            "execution_count": null,
            "outputs": []
        },
        {
            "metadata": {},
            "cell_type": "code",
            "source": "",
            "execution_count": null,
            "outputs": []
        }
    ],
    "metadata": {
        "kernelspec": {
            "name": "python3",
            "display_name": "Python 3.7",
            "language": "python"
        },
        "language_info": {
            "name": "python",
            "version": "3.7.10",
            "mimetype": "text/x-python",
            "codemirror_mode": {
                "name": "ipython",
                "version": 3
            },
            "pygments_lexer": "ipython3",
            "nbconvert_exporter": "python",
            "file_extension": ".py"
        }
    },
    "nbformat": 4,
    "nbformat_minor": 1
}